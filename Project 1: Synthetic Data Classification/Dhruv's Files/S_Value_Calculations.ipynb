{
  "nbformat": 4,
  "nbformat_minor": 0,
  "metadata": {
    "colab": {
      "name": "S-Value Calculations.ipynb",
      "provenance": [],
      "collapsed_sections": []
    },
    "kernelspec": {
      "name": "python3",
      "display_name": "Python 3"
    },
    "language_info": {
      "name": "python"
    }
  },
  "cells": [
    {
      "cell_type": "markdown",
      "metadata": {
        "id": "4aOBfl66dMXN"
      },
      "source": [
        "Formula 1 (from https://www.nature.com/articles/nature07788) can be used to relate diffraction pattern intensity values to the material's scattering vector (s-value/reciprocal values), as well as it's uiso value (which is dependent on temperature). \n",
        "\n",
        "However, when using s-values given by CrystalMaker, the formula gives incorrect predictions for uiso. This notebook will apply a modified version of Formula 1 (which is rearranged to solve for s-values) to CrystalMaker data, and then attempt to find a relation between the s-values given by Crystal Maker and the calculated s-values."
      ]
    },
    {
      "cell_type": "code",
      "metadata": {
        "colab": {
          "base_uri": "https://localhost:8080/"
        },
        "id": "XW5wxA7KuOza",
        "outputId": "c3a6e023-ad11-4199-f349-3af07ce79d8b"
      },
      "source": [
        "#Mounting Drive\n",
        "from google.colab import drive \n",
        "drive.mount('/content/drive')\n",
        "\n",
        "#Imports\n",
        "from google.colab import files\n",
        "import os\n",
        "import math\n",
        "import matplotlib.pyplot as plt\n",
        "import numpy as np\n"
      ],
      "execution_count": 51,
      "outputs": [
        {
          "output_type": "stream",
          "text": [
            "Drive already mounted at /content/drive; to attempt to forcibly remount, call drive.mount(\"/content/drive\", force_remount=True).\n"
          ],
          "name": "stdout"
        }
      ]
    },
    {
      "cell_type": "code",
      "metadata": {
        "id": "d2s8hGhdyDrf"
      },
      "source": [
        "#Function which applies Formula 1 to CrystalMaker data\n",
        "def intensity_formula(tuple_unexcited,tuple_excited):\n",
        "  reciprocal_val_unexcited, intensity_unexcited, uiso_unexcited = tuple_unexcited \n",
        "  reciprocal_val_excited, intensity_excited, uiso_excited = tuple_excited\n",
        "\n",
        "  try:\n",
        "    s_val = math.sqrt((-2*math.log(intensity_excited/intensity_unexcited))/(uiso_excited-uiso_unexcited))\n",
        "    return s_val\n",
        "  except:\n",
        "    #In case there are any math errors (such as dividing by zero), the function returns 'error'\n",
        "    return 'error'\n",
        "\n",
        "\n",
        "def retrieve_reciprocal_data(directory=\"/content/drive/MyDrive/Bismuth_Data_Processed/Bismuth profiles/Reciprocal Profiles\"):\n",
        "  #Opens diffraction profile files, and orders data in a dictionary \n",
        "  \n",
        "  \n",
        "  reciprocal_vals = [] #ordered list in which reciprocal values (s-values calculated by CrystalMaker will be stored)\n",
        "  intermediate_list = [] #list of [reciprocal val, intensity, uiso] values \n",
        "  \n",
        "  #Opening diffraction files\n",
        "  for subdirectories, directories, files in os.walk(\"/content/drive/MyDrive/Bismuth_Data_Processed/Bismuth profiles/Reciprocal Profiles\"):\n",
        "    for file_name in files:      \n",
        "      file = open(subdirectories + os.path.sep + file_name, \"r\")\n",
        "      uiso_val = float(file_name.split(\"reciprocal_\")[1].split(\".txt\")[0])      \n",
        "      \n",
        "      for line in file:\n",
        "        data_point = line.split() #X and Y values are separated by a space\n",
        "        \n",
        "        #converting data to float values\n",
        "        reciprocal_val=float(data_point[0])\n",
        "        intensity_val = float(data_point[1])\n",
        "        \n",
        "        #appending [reciprocal val, intensity, uiso] to an intermediate list for further processing\n",
        "        intermediate_list.append([reciprocal_val,intensity_val,uiso_val])\n",
        "        if reciprocal_val not in reciprocal_vals:\n",
        "          reciprocal_vals.append(reciprocal_val)\n",
        "          reciprocal_vals.sort()\n",
        "        \n",
        "\n",
        "  ordered_dict = dict() #initializing dictionary\n",
        "  #Formula 1 is applied to data across various uiso values that has the same s-value, so data will be organized accordingly\n",
        "  #organizing data in dictionary by s-value {'0.0':[[data tuple for uiso = 0],[data tuple for uiso = 1],[data tuple for uiso = 2]...],'0.1':....}\n",
        "  \n",
        "  for reciprocal_val in reciprocal_vals: #iterating through all reciprocal values\n",
        "    like_points = []\n",
        "\n",
        "    for element in intermediate_list: #iterating through all of the elements in the intermediate list to find which ones have a given reciprocal value\n",
        "      if element[0] == reciprocal_val:\n",
        "        like_points.append([reciprocal_val,element[1],element[2]])\n",
        "\n",
        "    if len(like_points) > 1:\n",
        "      ordered_dict[reciprocal_val] = like_points #this list of lists is stored in the dictionary, with the shared s-value used as the key\n",
        "  return ordered_dict\n",
        "\n",
        "\n",
        "ordered_dict = retrieve_reciprocal_data()\n",
        "key_list = list(ordered_dict.keys())"
      ],
      "execution_count": 46,
      "outputs": []
    },
    {
      "cell_type": "code",
      "metadata": {
        "colab": {
          "base_uri": "https://localhost:8080/",
          "height": 331
        },
        "id": "0mY6M8TDLjdK",
        "outputId": "98830edc-52e5-4dfb-a50a-f40f558b7ca1"
      },
      "source": [
        "key_list = list(ordered_dict.keys())\n",
        "vals_to_plot = []\n",
        "\n",
        "for key in key_list:\n",
        "  vals_to_check = ordered_dict[key]\n",
        "  for index in range(1,len(vals_to_check)):\n",
        "    #Applying Formula 1 to all data points with the same s-value\n",
        "    s_val = intensity_formula(vals_to_check[0],vals_to_check[index])\n",
        "  if s_val is not 'error':\n",
        "      vals_to_plot.append([key,s_val])\n",
        "\n",
        "#Plotting calculated s-vales against CrystalMaker s-values\n",
        "x,y = zip(*vals_to_plot)\n",
        "plt.scatter(x,y,s=1)\n",
        "plt.xlabel(\"Crystal Maker s-values (1/Å)\")\n",
        "plt.ylabel(\"Calculated s-values (1/Å)\")\n",
        "plt.title(\"Calculated s-values against Crystal Maker s-values\")\n",
        "\n",
        "#Determining + Plotting line of best fit\n",
        "linear_model=np.polyfit(x,y,1)\n",
        "linear_model_fn=np.poly1d(linear_model)\n",
        "x_s=np.arange(0,1.5)\n",
        "plt.plot(x_s,linear_model_fn(x_s),color=\"green\",label=\"Line of best fit\")\n",
        "plt.legend()\n",
        "plt.show()\n",
        "print(\"Line of best fit equation: \" + str(linear_model_fn))"
      ],
      "execution_count": 62,
      "outputs": [
        {
          "output_type": "display_data",
          "data": {
            "image/png": "[encoded data removed]",
            "text/plain": [
              "<Figure size 432x288 with 1 Axes>"
            ]
          },
          "metadata": {
            "needs_background": "light"
          }
        },
        {
          "output_type": "stream",
          "text": [
            "Line of best fit equation:  \n",
            "8.789 x + 0.0696\n"
          ],
          "name": "stdout"
        }
      ]
    }
  ]
}