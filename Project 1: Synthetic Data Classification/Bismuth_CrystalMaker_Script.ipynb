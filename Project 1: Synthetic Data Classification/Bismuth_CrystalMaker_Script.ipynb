{
  "nbformat": 4,
  "nbformat_minor": 0,
  "metadata": {
    "colab": {
      "name": "Bismuth_CrystalMaker_Script.ipynb",
      "provenance": [],
      "collapsed_sections": []
    },
    "kernelspec": {
      "name": "python3",
      "display_name": "Python 3"
    },
    "language_info": {
      "name": "python"
    },
    "accelerator": "GPU"
  },
  "cells": [
    {
      "cell_type": "code",
      "metadata": {
        "id": "EnAk324TK-gp"
      },
      "source": [
        "from google.colab import files\n",
        "import matplotlib.pyplot as plt\n",
        "import math\n",
        "import numpy as np\n",
        "from PIL import Image as im\n",
        "import cv2 as cv\n",
        "import random"
      ],
      "execution_count": 7,
      "outputs": []
    },
    {
      "cell_type": "code",
      "metadata": {
        "colab": {
          "resources": {
            "http://localhost:8080/nbextensions/google.colab/files.js": {
              "data": "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",
              "ok": true,
              "headers": [
                [
                  "content-type",
                  "application/javascript"
                ]
              ],
              "status": 200,
              "status_text": ""
            }
          },
          "base_uri": "https://localhost:8080/",
          "height": 412
        },
        "id": "ZCsBQ2ECzvMR",
        "outputId": "ef883939-556c-41ab-fe7a-9c04a066bba3"
      },
      "source": [
        "uploaded = files.upload()"
      ],
      "execution_count": 2,
      "outputs": [
        {
          "output_type": "display_data",
          "data": {
            "text/html": [
              "\n",
              "     <input type=\"file\" id=\"files-5b41e7ad-d58c-45e7-a87c-d80267984738\" name=\"files[]\" multiple disabled\n",
              "        style=\"border:none\" />\n",
              "     <output id=\"result-5b41e7ad-d58c-45e7-a87c-d80267984738\">\n",
              "      Upload widget is only available when the cell has been executed in the\n",
              "      current browser session. Please rerun this cell to enable.\n",
              "      </output>\n",
              "      <script src=\"/nbextensions/google.colab/files.js\"></script> "
            ],
            "text/plain": [
              "<IPython.core.display.HTML object>"
            ]
          },
          "metadata": {
            "tags": []
          }
        },
        {
          "output_type": "stream",
          "text": [
            "Saving Bi_mp-23152_computed Profile_0.7.txt to Bi_mp-23152_computed Profile_0.7.txt\n",
            "Saving Bi_mp-23152_computed Profile_0.0.txt to Bi_mp-23152_computed Profile_0.0.txt\n",
            "Saving Bi_mp-23152_computed Profile_0.1.txt to Bi_mp-23152_computed Profile_0.1.txt\n",
            "Saving Bi_mp-23152_computed Profile_0.2.txt to Bi_mp-23152_computed Profile_0.2.txt\n",
            "Saving Bi_mp-23152_computed Profile_0.3.txt to Bi_mp-23152_computed Profile_0.3.txt\n",
            "Saving Bi_mp-23152_computed Profile_0.4.txt to Bi_mp-23152_computed Profile_0.4.txt\n",
            "Saving Bi_mp-23152_computed Profile_0.5.txt to Bi_mp-23152_computed Profile_0.5.txt\n",
            "Saving Bi_mp-23152_computed Profile_0.6.txt to Bi_mp-23152_computed Profile_0.6.txt\n",
            "Saving Bi_mp-23152_computed Profile_0.8.txt to Bi_mp-23152_computed Profile_0.8.txt\n",
            "Saving Bi_mp-23152_computed Profile_0.9.txt to Bi_mp-23152_computed Profile_0.9.txt\n",
            "Saving Bi_mp-23152_computed Profile_1.0.txt to Bi_mp-23152_computed Profile_1.0.txt\n"
          ],
          "name": "stdout"
        }
      ]
    },
    {
      "cell_type": "code",
      "metadata": {
        "id": "ZgJ1Hzn2LfoS"
      },
      "source": [
        "files_to_open = []\n",
        "file_name_ending = \"Bi_mp-23152_computed Profile_\"\n",
        "for val in range(0,11,1):\n",
        "  #print(val/10)\n",
        "  file_name = file_name_ending + str(val/10) + \".txt\" \n",
        "  files_to_open.append(file_name)"
      ],
      "execution_count": 3,
      "outputs": []
    },
    {
      "cell_type": "code",
      "metadata": {
        "id": "e_l1hclFNA3f"
      },
      "source": [
        "#files_to_open=[\"Bi_mp-23152_computed Profile.txt\"]"
      ],
      "execution_count": 5,
      "outputs": []
    },
    {
      "cell_type": "code",
      "metadata": {
        "id": "MLDk_rMPOJ8a"
      },
      "source": [
        "#VALUES\n",
        "scale = 5\n",
        "resolution = 250"
      ],
      "execution_count": 4,
      "outputs": []
    },
    {
      "cell_type": "code",
      "metadata": {
        "colab": {
          "base_uri": "https://localhost:8080/"
        },
        "id": "i55iIML0SVMV",
        "outputId": "186134e3-ea01-4c80-c05d-ae42448d057c"
      },
      "source": [
        "one_hot_vecs = []\n",
        "for i in range(0,len(files_to_open)):\n",
        "  one_hot_vec =[0] * len(files_to_open)\n",
        "  one_hot_vec[i] = 1\n",
        "  one_hot_vecs.append(one_hot_vec)\n",
        "  \n",
        "\n",
        "print(len(one_hot_vec))"
      ],
      "execution_count": 10,
      "outputs": [
        {
          "output_type": "stream",
          "text": [
            "11\n"
          ],
          "name": "stdout"
        }
      ]
    },
    {
      "cell_type": "code",
      "metadata": {
        "colab": {
          "base_uri": "https://localhost:8080/",
          "height": 276
        },
        "id": "lZADlU9GIl47",
        "outputId": "40362f21-2268-4bb3-e196-d24d12db878f"
      },
      "source": [
        "radii = []\n",
        "intenisties = []\n",
        "for file_name in files_to_open:\n",
        "  file = open(file_name, \"r\")\n",
        "  array_vals = []\n",
        "  for line in file:\n",
        "    data_point = line.split()\n",
        "\n",
        "    array_vals.append([scale*math.tan(math.radians(float(data_point[0]))/2),float(data_point[1])])\n",
        "  #print(array_vals)\n",
        "  radius,intensity = zip(*array_vals)\n",
        "  \n",
        "  #angle_rad = angle_deg)/2\n",
        "  radii.append(radius)\n",
        "  intenisties.append(intensity)\n",
        "  #print(X)\n",
        "  \n",
        "for i in range(0,len(radii)):\n",
        "  plt.plot(radii[i],intenisties[i])\n"
      ],
      "execution_count": 11,
      "outputs": [
        {
          "output_type": "display_data",
          "data": {
            "image/png": "[encoded data removed]",
            "text/plain": [
              "<Figure size 432x288 with 1 Axes>"
            ]
          },
          "metadata": {
            "tags": [],
            "needs_background": "light"
          }
        }
      ]
    },
    {
      "cell_type": "code",
      "metadata": {
        "colab": {
          "base_uri": "https://localhost:8080/"
        },
        "id": "Z3nQJPVcPl9J",
        "outputId": "2294744c-d6ce-4a1c-e101-1cd4f58fb24c"
      },
      "source": [
        "#source: https://stackoverflow.com/questions/44865023/how-can-i-create-a-circular-mask-for-a-numpy-array\n",
        "#adding an invert option because it looks cool\n",
        "invert = False\n",
        "\n",
        "X, Y = np.ogrid[:resolution,:resolution]\n",
        "centre_val = resolution/2\n",
        "images = []\n",
        "array_ones = np.ones((resolution,resolution))\n",
        "dist_from_center = np.sqrt((X-centre_val)**2+(Y-centre_val)**2)\n",
        "for i in range(0,len(radii)):\n",
        "  if invert:\n",
        "    base_img = np.ones((resolution,resolution))*256\n",
        "  else:\n",
        "    base_img = np.zeros((resolution,resolution))\n",
        "\n",
        "  \n",
        "  radius = radii[i]\n",
        "  intensity = intenisties[i]\n",
        "  \n",
        "  min_rad = radius[0]\n",
        "  radius_adjustment_value = (resolution/2)*0.1/min_rad\n",
        "\n",
        "  prev_rad = radius[0]*radius_adjustment_value\n",
        "  max_intensity = max(intensity)\n",
        "  for j in range(0,len(radius)):\n",
        "    #print(radius[j])\n",
        "    \n",
        "    curr_rad = radius[j]*radius_adjustment_value\n",
        "    #print(\"adjusted radius: {}\".format(curr_rad))\n",
        "       \n",
        "    mask = (dist_from_center <= curr_rad) & (dist_from_center > prev_rad)\n",
        "    #mask = (dist_from_center <= 20) & (dist_from_center > 19)\n",
        "    unscaled_donut = np.copy(array_ones)\n",
        "    unscaled_donut[~mask]=0\n",
        "    if invert:\n",
        "      base_img -= unscaled_donut*intensity[j]*200/max_intensity\n",
        "    else:\n",
        "      base_img += unscaled_donut*intensity[j]*200/max_intensity\n",
        "    prev_rad = curr_rad\n",
        "\n",
        "  #image = im.fromarray(base_img)\n",
        "  blurry_img = cv.GaussianBlur(base_img,(5,5),0)\n",
        "  #images.append(blurry_img)\n",
        "  for q in range(0,15):\n",
        "    M = np.float32([\n",
        "    [1, 0, random.randint(-10,10)],\n",
        "    [0, 1, random.randint(-10,10)]\n",
        "    ])\n",
        "    images.append([cv.warpAffine(blurry_img, M, (resolution,resolution)),one_hot_vecs[i]])\n",
        "\n",
        "\n",
        "  #plt.imsave('DR.png', image, cmap='gray')\n",
        "\"\"\"\n",
        "for base_img in images:\n",
        "    plt.imshow(im.fromarray(base_img[0]))\n",
        "    print(base_img[1])\n",
        "    plt.show()\n",
        "\"\"\"\n",
        "#print(len(images))\n",
        "print(images[0][0].shape)"
      ],
      "execution_count": 12,
      "outputs": [
        {
          "output_type": "stream",
          "text": [
            "(250, 250)\n"
          ],
          "name": "stdout"
        }
      ]
    },
    {
      "cell_type": "code",
      "metadata": {
        "colab": {
          "base_uri": "https://localhost:8080/"
        },
        "id": "i7PghH2AY8bV",
        "outputId": "f96a6058-b6c1-4102-bf8f-a8f4cd20f10d"
      },
      "source": [
        "X,Y = zip(*images)\n",
        "\n",
        "X_array = np.array(X).reshape(-1,resolution,resolution,1)\n",
        "Y_array = np.array(Y).reshape(-1,11)\n",
        "\n",
        "print(X_array.shape)\n",
        "print(Y_array.shape)\n",
        "#plt.imshow(X_array[0],cmap='gray')\n",
        "#plt.show()"
      ],
      "execution_count": 13,
      "outputs": [
        {
          "output_type": "stream",
          "text": [
            "(165, 250, 250, 1)\n",
            "(165, 11)\n"
          ],
          "name": "stdout"
        }
      ]
    },
    {
      "cell_type": "code",
      "metadata": {
        "id": "MltbR2J1N_IK"
      },
      "source": [
        "#source: https://machinelearningmastery.com/how-to-develop-a-convolutional-neural-network-from-scratch-for-mnist-handwritten-digit-classification/\n",
        "# define cnn model\n",
        "from keras.models import Sequential\n",
        "from keras.layers import Conv2D\n",
        "from keras.layers import MaxPooling2D\n",
        "from keras.layers import Dense\n",
        "from keras.layers import Flatten\n",
        "from keras.optimizers import SGD\n",
        "\n",
        "def define_model():\n",
        "\tmodel = Sequential()\n",
        "\tmodel.add(Conv2D(32, (3, 3), activation='relu', kernel_initializer='he_uniform', input_shape=(resolution, resolution, 1)))\n",
        "\tmodel.add(MaxPooling2D((2, 2)))\n",
        "\tmodel.add(Flatten())\n",
        "\tmodel.add(Dense(100, activation='relu', kernel_initializer='he_uniform'))\n",
        "\tmodel.add(Dense(11, activation='softmax'))\n",
        "\t# compile model\n",
        "\topt = SGD(lr=0.01, momentum=0.9)\n",
        "\tmodel.compile(optimizer=opt, loss='categorical_crossentropy', metrics=['accuracy'])\n",
        "\treturn model\n"
      ],
      "execution_count": 14,
      "outputs": []
    },
    {
      "cell_type": "code",
      "metadata": {
        "id": "IsekuvHRcaqk"
      },
      "source": [
        "import tensorflow as tf\n",
        "from tensorflow import keras\n",
        "from keras import layers\n",
        "from keras import Sequential\n",
        "from keras.layers import Dense,Activation,Dropout,Flatten,Conv2D,MaxPooling2D\n",
        "from keras.layers.normalization import BatchNormalization\n",
        "\n",
        "def build_driving_model():\n",
        "  #resnet = keras.applications.ResNet50(weights='imagenet', include_top=False, input_shape=(resolution, resolution, 1))\n",
        "\n",
        "  #for layer in resnet.layers[:-4]:\n",
        "  #    layer.trainable = False\n",
        "  \n",
        "  \"\"\"\n",
        "  for layer in resnet.layers:\n",
        "      print(layer, layer.trainable)\n",
        "  \"\"\"\n",
        "  model = Sequential()\n",
        "  #model.add(resnet)\n",
        "  #model.add(Dropout(0.5))\n",
        "  model.add(Flatten())\n",
        "  model.add(Dense(500, activation='tanh'))\n",
        "  #model.add(Dropout(0.5))\n",
        "  model.add(Dense(200, activation='tanh'))\n",
        "  #model.add(Dropout(0.5))\n",
        "  model.add(Dense(50, activation='tanh'))\n",
        "  #model.add(Dropout(0.5))\n",
        "  model.add(Dense(11, activation='softmax'))\n",
        "  return model\n",
        "\n",
        "def build_alexnet_model():\n",
        "  #image_shape = (80,60,1)\n",
        "  np.random.seed(1000)\n",
        "  #https://www.tensorflow.org/api_docs/python/tf/keras/layers/InputLayer\n",
        "  model = tf.keras.Sequential([\n",
        "    #tf.keras.layers.InputLayer(input_shape=image_shape),\n",
        "    tf.keras.layers.Conv2D(filters=96, kernel_size=(5,5),strides=(2,2),activation=tf.nn.relu), \n",
        "    tf.keras.layers.MaxPooling2D(pool_size=(3,3),strides=(2,2)),\n",
        "    tf.keras.layers.Conv2D(filters=256,kernel_size=(5,5),strides=(1,1),activation=tf.nn.relu), \n",
        "    #tf.keras.layers.MaxPooling2D(pool_size=(3,3),strides=(2,2)),\n",
        "    #tf.keras.layers.Conv2D(filters=384,kernel_size=(3,3),strides=(1,1),activation=tf.nn.relu), \n",
        "    tf.keras.layers.Conv2D(filters=384,kernel_size=(3,3),strides=(1,1),activation=tf.nn.relu), \n",
        "    tf.keras.layers.Conv2D(filters=256,kernel_size=(3,3),strides=(1,1),activation=tf.nn.relu), \n",
        "    tf.keras.layers.MaxPooling2D(pool_size=(3,3),strides=(2,2)),\n",
        "    tf.keras.layers.Flatten(),\n",
        "    tf.keras.layers.Dense(4096, activation=tf.nn.relu),\n",
        "    tf.keras.layers.Dropout(0.4),\n",
        "    tf.keras.layers.Dense(4096, activation=tf.nn.relu),\n",
        "    tf.keras.layers.Dropout(0.4),\n",
        "    tf.keras.layers.Dense(11, activation=tf.keras.activations.linear)])\n",
        "  \n",
        "  return model\n"
      ],
      "execution_count": 33,
      "outputs": []
    },
    {
      "cell_type": "code",
      "metadata": {
        "colab": {
          "base_uri": "https://localhost:8080/"
        },
        "id": "kWBd1OrzbCTk",
        "outputId": "17b15f21-b20a-4b27-b34c-af500848f586"
      },
      "source": [
        "model = build_alexnet_model()\n",
        "opt = SGD(lr=0.01, momentum=0.9)\n",
        "model.compile(optimizer=opt, loss='categorical_crossentropy', metrics=['accuracy'])"
      ],
      "execution_count": 34,
      "outputs": [
        {
          "output_type": "stream",
          "text": [
            "/usr/local/lib/python3.7/dist-packages/tensorflow/python/keras/optimizer_v2/optimizer_v2.py:375: UserWarning: The `lr` argument is deprecated, use `learning_rate` instead.\n",
            "  \"The `lr` argument is deprecated, use `learning_rate` instead.\")\n"
          ],
          "name": "stderr"
        }
      ]
    },
    {
      "cell_type": "code",
      "metadata": {
        "colab": {
          "base_uri": "https://localhost:8080/"
        },
        "id": "8tPZMXDAcNbL",
        "outputId": "b899acea-83e8-4163-8001-10ff5c960115"
      },
      "source": [
        "model.fit(X_array,Y_array,batch_size=15,epochs=100,validation_split=0.1)"
      ],
      "execution_count": null,
      "outputs": [
        {
          "output_type": "stream",
          "text": [
            "Epoch 1/100\n",
            "10/10 [==============================] - 4s 259ms/step - loss: 5.1439 - accuracy: 0.0946 - val_loss: 2.5782 - val_accuracy: 0.0000e+00\n",
            "Epoch 2/100\n",
            "10/10 [==============================] - 1s 102ms/step - loss: 3.5831 - accuracy: 0.1014 - val_loss: 2.9968 - val_accuracy: 0.0000e+00\n",
            "Epoch 3/100\n",
            "10/10 [==============================] - 1s 102ms/step - loss: 3.5280 - accuracy: 0.1014 - val_loss: 3.3299 - val_accuracy: 0.0000e+00\n",
            "Epoch 4/100\n",
            "10/10 [==============================] - 1s 101ms/step - loss: 3.4973 - accuracy: 0.1014 - val_loss: 3.8030 - val_accuracy: 0.0000e+00\n",
            "Epoch 5/100\n",
            "10/10 [==============================] - 1s 102ms/step - loss: 3.4626 - accuracy: 0.1014 - val_loss: 5.0846 - val_accuracy: 0.0000e+00\n",
            "Epoch 6/100\n",
            "10/10 [==============================] - 1s 101ms/step - loss: 3.4229 - accuracy: 0.1014 - val_loss: 14.4903 - val_accuracy: 0.0000e+00\n",
            "Epoch 7/100\n",
            "10/10 [==============================] - 1s 102ms/step - loss: 3.3805 - accuracy: 0.1014 - val_loss: 14.4821 - val_accuracy: 0.0000e+00\n",
            "Epoch 8/100\n",
            "10/10 [==============================] - 1s 101ms/step - loss: 3.3264 - accuracy: 0.1014 - val_loss: 14.4741 - val_accuracy: 0.0000e+00\n",
            "Epoch 9/100\n",
            "10/10 [==============================] - 1s 101ms/step - loss: 3.2647 - accuracy: 0.1014 - val_loss: 14.4654 - val_accuracy: 0.0000e+00\n",
            "Epoch 10/100\n",
            "10/10 [==============================] - 1s 102ms/step - loss: 3.1773 - accuracy: 0.1014 - val_loss: 14.4499 - val_accuracy: 0.0000e+00\n",
            "Epoch 11/100\n",
            "10/10 [==============================] - 1s 102ms/step - loss: 3.0418 - accuracy: 0.1014 - val_loss: 14.4246 - val_accuracy: 0.0000e+00\n",
            "Epoch 12/100\n",
            "10/10 [==============================] - 1s 101ms/step - loss: 2.7245 - accuracy: 0.1014 - val_loss: 14.3352 - val_accuracy: 0.0000e+00\n",
            "Epoch 13/100\n",
            "10/10 [==============================] - 1s 101ms/step - loss: 10.1221 - accuracy: 0.1014 - val_loss: 2.0895 - val_accuracy: 0.0000e+00\n",
            "Epoch 14/100\n",
            "10/10 [==============================] - 1s 103ms/step - loss: 14.4845 - accuracy: 0.1014 - val_loss: 2.4373 - val_accuracy: 0.0000e+00\n",
            "Epoch 15/100\n",
            "10/10 [==============================] - 1s 102ms/step - loss: 14.4845 - accuracy: 0.1014 - val_loss: 2.5227 - val_accuracy: 0.0000e+00\n",
            "Epoch 16/100\n",
            "10/10 [==============================] - 1s 101ms/step - loss: 14.4845 - accuracy: 0.1014 - val_loss: 2.5496 - val_accuracy: 0.0000e+00\n",
            "Epoch 17/100\n",
            "10/10 [==============================] - 1s 102ms/step - loss: 14.4845 - accuracy: 0.1014 - val_loss: 2.5587 - val_accuracy: 0.0000e+00\n",
            "Epoch 18/100\n",
            "10/10 [==============================] - 1s 102ms/step - loss: 14.4845 - accuracy: 0.1014 - val_loss: 2.5619 - val_accuracy: 0.0000e+00\n",
            "Epoch 19/100\n",
            "10/10 [==============================] - 1s 101ms/step - loss: 14.4845 - accuracy: 0.1014 - val_loss: 2.5629 - val_accuracy: 0.0000e+00\n",
            "Epoch 20/100\n",
            "10/10 [==============================] - 1s 102ms/step - loss: 14.4845 - accuracy: 0.1014 - val_loss: 2.5633 - val_accuracy: 0.0000e+00\n",
            "Epoch 21/100\n",
            "10/10 [==============================] - 1s 100ms/step - loss: 14.4845 - accuracy: 0.1014 - val_loss: 2.5635 - val_accuracy: 0.0000e+00\n",
            "Epoch 22/100\n",
            "10/10 [==============================] - 1s 101ms/step - loss: 14.4845 - accuracy: 0.1014 - val_loss: 2.5635 - val_accuracy: 0.0000e+00\n",
            "Epoch 23/100\n",
            "10/10 [==============================] - 1s 101ms/step - loss: 14.4845 - accuracy: 0.1014 - val_loss: 2.5635 - val_accuracy: 0.0000e+00\n",
            "Epoch 24/100\n",
            "10/10 [==============================] - 1s 100ms/step - loss: 14.4845 - accuracy: 0.1014 - val_loss: 2.5635 - val_accuracy: 0.0000e+00\n",
            "Epoch 25/100\n",
            "10/10 [==============================] - 1s 100ms/step - loss: 14.4845 - accuracy: 0.1014 - val_loss: 2.5635 - val_accuracy: 0.0000e+00\n",
            "Epoch 26/100\n",
            "10/10 [==============================] - 1s 100ms/step - loss: 14.4845 - accuracy: 0.1014 - val_loss: 2.5635 - val_accuracy: 0.0000e+00\n",
            "Epoch 27/100\n",
            "10/10 [==============================] - 1s 102ms/step - loss: 14.4845 - accuracy: 0.1014 - val_loss: 2.5635 - val_accuracy: 0.0000e+00\n",
            "Epoch 28/100\n",
            "10/10 [==============================] - 1s 102ms/step - loss: 14.4845 - accuracy: 0.1014 - val_loss: 2.5635 - val_accuracy: 0.0000e+00\n",
            "Epoch 29/100\n",
            "10/10 [==============================] - 1s 104ms/step - loss: 14.4845 - accuracy: 0.1014 - val_loss: 2.5635 - val_accuracy: 0.0000e+00\n",
            "Epoch 30/100\n",
            "10/10 [==============================] - 1s 101ms/step - loss: 14.4845 - accuracy: 0.1014 - val_loss: 2.5635 - val_accuracy: 0.0000e+00\n",
            "Epoch 31/100\n",
            "10/10 [==============================] - 1s 101ms/step - loss: 14.4845 - accuracy: 0.1014 - val_loss: 2.5635 - val_accuracy: 0.0000e+00\n",
            "Epoch 32/100\n",
            "10/10 [==============================] - 1s 102ms/step - loss: 14.4845 - accuracy: 0.1014 - val_loss: 2.5635 - val_accuracy: 0.0000e+00\n",
            "Epoch 33/100\n",
            "10/10 [==============================] - 1s 101ms/step - loss: 14.4845 - accuracy: 0.1014 - val_loss: 2.5635 - val_accuracy: 0.0000e+00\n",
            "Epoch 34/100\n",
            "10/10 [==============================] - 1s 101ms/step - loss: 14.4845 - accuracy: 0.1014 - val_loss: 2.5635 - val_accuracy: 0.0000e+00\n",
            "Epoch 35/100\n",
            "10/10 [==============================] - 1s 101ms/step - loss: 14.4845 - accuracy: 0.1014 - val_loss: 2.5635 - val_accuracy: 0.0000e+00\n",
            "Epoch 36/100\n",
            "10/10 [==============================] - 1s 101ms/step - loss: 14.4845 - accuracy: 0.1014 - val_loss: 2.5635 - val_accuracy: 0.0000e+00\n",
            "Epoch 37/100\n",
            "10/10 [==============================] - 1s 103ms/step - loss: 14.4845 - accuracy: 0.1014 - val_loss: 2.5635 - val_accuracy: 0.0000e+00\n",
            "Epoch 38/100\n",
            " 5/10 [==============>...............] - ETA: 0s - loss: 14.1839 - accuracy: 0.1200"
          ],
          "name": "stdout"
        }
      ]
    }
  ]
}