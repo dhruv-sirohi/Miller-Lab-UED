{
  "nbformat": 4,
  "nbformat_minor": 0,
  "metadata": {
    "colab": {
      "name": "Bismuth_Real_Data_Script.ipynb",
      "provenance": [],
      "collapsed_sections": []
    },
    "kernelspec": {
      "name": "python3",
      "display_name": "Python 3"
    },
    "language_info": {
      "name": "python"
    }
  },
  "cells": [
    {
      "cell_type": "code",
      "metadata": {
        "colab": {
          "base_uri": "https://localhost:8080/"
        },
        "id": "KtN8CZ2ExjiF",
        "outputId": "866bc818-b693-4aa9-d9da-c1006b75aeff"
      },
      "source": [
        "from google.colab import drive \n",
        "drive.mount('/content/drive')\n",
        "\n",
        "#IMPORTS\n",
        "\n",
        "import os\n",
        "from google.colab import files\n",
        "import matplotlib.pyplot as plt\n",
        "import math\n",
        "import numpy as np\n",
        "from PIL import Image\n",
        "import cv2 as cv\n",
        "import random\n",
        "import tensorflow as tf\n",
        "from tensorflow import keras"
      ],
      "execution_count": 66,
      "outputs": [
        {
          "output_type": "stream",
          "text": [
            "Drive already mounted at /content/drive; to attempt to forcibly remount, call drive.mount(\"/content/drive\", force_remount=True).\n"
          ],
          "name": "stdout"
        }
      ]
    },
    {
      "cell_type": "code",
      "metadata": {
        "id": "2PyDuTuCyBXG"
      },
      "source": [
        "data_dir = '/content/drive/MyDrive/Bismuth Data/'"
      ],
      "execution_count": 67,
      "outputs": []
    },
    {
      "cell_type": "code",
      "metadata": {
        "colab": {
          "base_uri": "https://localhost:8080/"
        },
        "id": "0WX4I9WSzJDU",
        "outputId": "14cc9f7a-c751-47ef-8171-e782f385da0a"
      },
      "source": [
        "for file in os.scandir(data_dir):\n",
        "  print(file.path)"
      ],
      "execution_count": 68,
      "outputs": [
        {
          "output_type": "stream",
          "text": [
            "/content/drive/MyDrive/Bismuth Data/2021-02-08\n",
            "/content/drive/MyDrive/Bismuth Data/2021-02-09\n",
            "/content/drive/MyDrive/Bismuth Data/2021-02-11\n"
          ],
          "name": "stdout"
        }
      ]
    },
    {
      "cell_type": "code",
      "metadata": {
        "colab": {
          "base_uri": "https://localhost:8080/"
        },
        "id": "68bEBCpMzlyv",
        "outputId": "bcd9bbcb-9136-400d-9448-51a62b734dfb"
      },
      "source": [
        "#source: https://www.codespeedy.com/how-to-iterate-over-files-in-a-given-directory-in-python/\n",
        "def process_data(dims):\n",
        "  data_array = []\n",
        "  for subdirectories, directories, files in os.walk(data_dir):\n",
        "    for file_name in files:\n",
        "      file_loc = subdirectories + os.path.sep + file_name\n",
        "      #print(file_name)\n",
        "      photo = Image.open(file_loc)#\"filename.tif\")\n",
        "      \n",
        "      #adding some black pixels to the top and bottom so that the image's aspect ratio doesn't change when resizing\n",
        "      buffer_array = np.zeros((74, 1148))\n",
        "      photo_arr = np.concatenate((buffer_array,np.array(photo),buffer_array),axis=0)/255\n",
        "      \n",
        "      resized_photo = cv.resize(photo_arr,dims)\n",
        "      data_array.append([resized_photo,file_name])\n",
        "\n",
        "      \"\"\"\n",
        "      #Comparing images before/after processing\n",
        "      fig = plt.figure(figsize=(10, 10))\n",
        "      fig.add_subplot(1, 2, 1)\n",
        "      plt.imshow(photo_arr,cmap='gray')\n",
        "      plt.title(\"Original Image\")\n",
        "      fig.add_subplot(1, 2, 2)\n",
        "      plt.imshow(resized_photo,cmap='gray)\n",
        "      plt.title(\"Resized Image\")\n",
        "      plt.show()\n",
        "      \"\"\"\n",
        "  print(len(data_array))\n",
        "  return data_array"
      ],
      "execution_count": 69,
      "outputs": [
        {
          "output_type": "stream",
          "text": [
            "859\n"
          ],
          "name": "stdout"
        }
      ]
    },
    {
      "cell_type": "code",
      "metadata": {
        "id": "lq4hkrMJFtpA"
      },
      "source": [
        "dims = (150,150)\n",
        "\n",
        "data_array = process_data(dims) "
      ],
      "execution_count": null,
      "outputs": []
    },
    {
      "cell_type": "code",
      "metadata": {
        "id": "mtiwwAsrIEU_"
      },
      "source": [
        "photo = np.zeros((74, 1148))\n"
      ],
      "execution_count": null,
      "outputs": []
    }
  ]
}